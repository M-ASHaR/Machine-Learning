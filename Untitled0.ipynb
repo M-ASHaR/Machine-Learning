{
  "nbformat": 4,
  "nbformat_minor": 0,
  "metadata": {
    "colab": {
      "provenance": [],
      "authorship_tag": "ABX9TyNZjAHiBQbR7TA3H07LQt39",
      "include_colab_link": true
    },
    "kernelspec": {
      "name": "python3",
      "display_name": "Python 3"
    },
    "language_info": {
      "name": "python"
    }
  },
  "cells": [
    {
      "cell_type": "markdown",
      "metadata": {
        "id": "view-in-github",
        "colab_type": "text"
      },
      "source": [
        "<a href=\"https://colab.research.google.com/github/M-ASHaR/Machine-Learning/blob/main/Untitled0.ipynb\" target=\"_parent\"><img src=\"https://colab.research.google.com/assets/colab-badge.svg\" alt=\"Open In Colab\"/></a>"
      ]
    },
    {
      "cell_type": "markdown",
      "source": [
        "# ML Assignment\n"
      ],
      "metadata": {
        "id": "k_YEmEj4SnrK"
      }
    },
    {
      "cell_type": "code",
      "execution_count": 1,
      "metadata": {
        "colab": {
          "base_uri": "https://localhost:8080/",
          "height": 0
        },
        "id": "IqTxzI-zRA0m",
        "outputId": "10f3ff72-9b47-4cca-d2fc-4d55fd6ad163"
      },
      "outputs": [
        {
          "output_type": "stream",
          "name": "stdout",
          "text": [
            "Mounted at /content/gdrive\n"
          ]
        }
      ],
      "source": [
        "from google.colab import drive\n",
        "drive.mount('/content/gdrive')"
      ]
    },
    {
      "cell_type": "code",
      "source": [
        "cd '/content/gdrive/MyDrive/ml_data'"
      ],
      "metadata": {
        "colab": {
          "base_uri": "https://localhost:8080/",
          "height": 0
        },
        "id": "SkYWpazFSqyt",
        "outputId": "62cfc5fd-af7f-477e-80b7-2e04ba6669a0"
      },
      "execution_count": 2,
      "outputs": [
        {
          "output_type": "stream",
          "name": "stdout",
          "text": [
            "/content/gdrive/MyDrive/ml_data\n"
          ]
        }
      ]
    },
    {
      "cell_type": "markdown",
      "source": [
        "## importing data"
      ],
      "metadata": {
        "id": "YLVk12KiaYXB"
      }
    },
    {
      "cell_type": "code",
      "source": [
        "import pandas as pd\n",
        "webkb_train=pd.read_csv('webkb-train-stemmed.txt', sep ='\\t', names=['label', 'bow'])\n",
        "webkb_test=pd.read_csv('webkb-test-stemmed.txt', sep ='\\t', names=['label', 'bow'])"
      ],
      "metadata": {
        "id": "8k12dvEjVLqE"
      },
      "execution_count": 14,
      "outputs": []
    },
    {
      "cell_type": "code",
      "source": [
        "#webkb_train\n",
        "#display(webkb_train)\n",
        "print(webkb_train.shape)"
      ],
      "metadata": {
        "colab": {
          "base_uri": "https://localhost:8080/",
          "height": 0
        },
        "id": "RjdibecgYJ1F",
        "outputId": "88506ef9-9c05-4a17-f975-737341e3c01f"
      },
      "execution_count": 15,
      "outputs": [
        {
          "output_type": "stream",
          "name": "stdout",
          "text": [
            "(2803, 2)\n"
          ]
        }
      ]
    },
    {
      "cell_type": "code",
      "source": [
        "#display(webkb_test)\n",
        "print(webkb_test.shape)"
      ],
      "metadata": {
        "colab": {
          "base_uri": "https://localhost:8080/",
          "height": 0
        },
        "id": "cSk0ZuFIZZ3H",
        "outputId": "05bd65b6-cd11-4227-8940-f78b0379f3c3"
      },
      "execution_count": 16,
      "outputs": [
        {
          "output_type": "stream",
          "name": "stdout",
          "text": [
            "(1396, 2)\n"
          ]
        }
      ]
    },
    {
      "cell_type": "markdown",
      "source": [
        "## Merging Data"
      ],
      "metadata": {
        "id": "71uhNWGFad5t"
      }
    },
    {
      "cell_type": "code",
      "source": [
        "frames=[webkb_train,webkb_test]\n",
        "webkb=pd.concat(frames)\n",
        "#display(webkb)"
      ],
      "metadata": {
        "id": "rB4mhCUZago_"
      },
      "execution_count": 19,
      "outputs": []
    },
    {
      "cell_type": "markdown",
      "source": [
        "###Representing in counts form"
      ],
      "metadata": {
        "id": "YANFRDuUcemv"
      }
    },
    {
      "cell_type": "code",
      "source": [
        "from sklearn.feature_extraction.text import CountVectorizer\n",
        "\n",
        "cv = CountVectorizer()\n",
        "bow_counts=cv.fit_transform(webkb.bow.values.astype(str))\n",
        "#print(bow_counts)\n",
        "#display(bow_counts)\n",
        "#print(cv.vocabulary_)\n",
        "print(bow_counts.shape)"
      ],
      "metadata": {
        "colab": {
          "base_uri": "https://localhost:8080/",
          "height": 0
        },
        "id": "64mWdBRxcaw9",
        "outputId": "50998c22-3e46-4d36-ca9d-2154cfde0820"
      },
      "execution_count": 26,
      "outputs": [
        {
          "output_type": "stream",
          "name": "stdout",
          "text": [
            "(4199, 7771)\n"
          ]
        }
      ]
    },
    {
      "cell_type": "markdown",
      "source": [
        "##TF/IDF"
      ],
      "metadata": {
        "id": "hp_IYoA1mg3z"
      }
    },
    {
      "cell_type": "code",
      "source": [
        "from sklearn.feature_extraction.text import TfidfTransformer\n",
        "tt = TfidfTransformer()\n",
        "bow_tfidf =tt.fit_transform(bow_counts)\n",
        "print(bow_tfidf.shape)\n",
        "print(bow_tfidf)"
      ],
      "metadata": {
        "colab": {
          "base_uri": "https://localhost:8080/",
          "height": 0
        },
        "id": "xnTR5NuYmkDw",
        "outputId": "a896f66f-c920-40ec-ad8e-5f47b8c32058"
      },
      "execution_count": 51,
      "outputs": [
        {
          "output_type": "stream",
          "name": "stdout",
          "text": [
            "(4199, 7771)\n",
            "  (0, 7687)\t0.06621415443604788\n",
            "  (0, 7662)\t0.027992190085127096\n",
            "  (0, 7659)\t0.06387912082713444\n",
            "  (0, 7647)\t0.05443117026804293\n",
            "  (0, 7632)\t0.034790879104933115\n",
            "  (0, 7631)\t0.0334044296071481\n",
            "  (0, 7616)\t0.06013606329887504\n",
            "  (0, 7554)\t0.035465737540711806\n",
            "  (0, 7553)\t0.037588422378730016\n",
            "  (0, 7544)\t0.044947592634663254\n",
            "  (0, 7523)\t0.055656719252572116\n",
            "  (0, 7487)\t0.05708182043267829\n",
            "  (0, 7486)\t0.0523985408705663\n",
            "  (0, 7479)\t0.11131343850514423\n",
            "  (0, 7335)\t0.02972280179536611\n",
            "  (0, 7281)\t0.025793796679512284\n",
            "  (0, 7277)\t0.06486243303094841\n",
            "  (0, 7276)\t0.03904314246013432\n",
            "  (0, 7142)\t0.049362102745393543\n",
            "  (0, 7108)\t0.041115995927876375\n",
            "  (0, 7096)\t0.04009246038295486\n",
            "  (0, 6968)\t0.06708834981284727\n",
            "  (0, 6879)\t0.024812371861587943\n",
            "  (0, 6876)\t0.08483167790752823\n",
            "  (0, 6819)\t0.038047027899627085\n",
            "  :\t:\n",
            "  (4198, 6658)\t0.0741144065057954\n",
            "  (4198, 6107)\t0.05261944488533123\n",
            "  (4198, 6089)\t0.17317638523476284\n",
            "  (4198, 5907)\t0.23939186834455267\n",
            "  (4198, 5822)\t0.0633141060633435\n",
            "  (4198, 5382)\t0.37617929648635073\n",
            "  (4198, 5207)\t0.0891440223450244\n",
            "  (4198, 5026)\t0.12390817501115592\n",
            "  (4198, 4899)\t0.08175198367966945\n",
            "  (4198, 4176)\t0.08955911244942248\n",
            "  (4198, 4021)\t0.6093390979559451\n",
            "  (4198, 3867)\t0.1116101028359545\n",
            "  (4198, 3410)\t0.13821378841217494\n",
            "  (4198, 3168)\t0.14267296331998325\n",
            "  (4198, 2887)\t0.09382222153971069\n",
            "  (4198, 2776)\t0.10033226197224374\n",
            "  (4198, 2209)\t0.0891440223450244\n",
            "  (4198, 1837)\t0.06523672921998626\n",
            "  (4198, 1391)\t0.04659765195596609\n",
            "  (4198, 961)\t0.12999280394636775\n",
            "  (4198, 819)\t0.20872873362919278\n",
            "  (4198, 540)\t0.12564968689547648\n",
            "  (4198, 441)\t0.11142496941895286\n",
            "  (4198, 92)\t0.10673742364586374\n",
            "  (4198, 49)\t0.19732415027750272\n"
          ]
        }
      ]
    },
    {
      "cell_type": "markdown",
      "source": [
        "## test train split"
      ],
      "metadata": {
        "id": "0GOxsPXIqnUi"
      }
    },
    {
      "cell_type": "code",
      "source": [
        "from sklearn.model_selection import train_test_split\n",
        "X_train, X_test, y_train, y_test= train_test_split(bow_tfidf, webkb.label, test_size=0.30, shuffle=False, random_state=42)\n",
        "\n",
        "print(X_train.shape)\n",
        "print(y_train.shape)\n",
        "print(X_test.shape)\n",
        "print(y_test.shape)"
      ],
      "metadata": {
        "colab": {
          "base_uri": "https://localhost:8080/",
          "height": 0
        },
        "id": "GwMzGSbeoNlO",
        "outputId": "1b4e1392-ca80-477a-93f6-83b53f49a28f"
      },
      "execution_count": 52,
      "outputs": [
        {
          "output_type": "stream",
          "name": "stdout",
          "text": [
            "(2939, 7771)\n",
            "(2939,)\n",
            "(1260, 7771)\n",
            "(1260,)\n"
          ]
        }
      ]
    },
    {
      "cell_type": "markdown",
      "source": [
        "## Random Forest"
      ],
      "metadata": {
        "id": "Rko5XH4yqyhr"
      }
    },
    {
      "cell_type": "code",
      "source": [
        "from sklearn.ensemble import RandomForestClassifier\n",
        "\n",
        "rfc = RandomForestClassifier(random_state=42)\n",
        "\n",
        "rfc.fit(X_train,y_train)\n",
        "y_predicted=rfc.predict(X_test)\n",
        "\n",
        "#print(y_test)\n",
        "#print(y_predicted)\n",
        "\n"
      ],
      "metadata": {
        "id": "zV1NOfSeq2ho"
      },
      "execution_count": 53,
      "outputs": []
    },
    {
      "cell_type": "markdown",
      "source": [
        "### accuracy and confusion matrix"
      ],
      "metadata": {
        "id": "rP5df5lJtUfV"
      }
    },
    {
      "cell_type": "code",
      "source": [
        "from sklearn import metrics\n",
        " \n",
        "print(\"\\n Test Accuracy: \", metrics.accuracy_score(y_test, y_predicted)) \n",
        "print(\"\\n Coonfusion matrix \\n\\n\", metrics.confusion_matrix(y_test, y_predicted))"
      ],
      "metadata": {
        "colab": {
          "base_uri": "https://localhost:8080/",
          "height": 0
        },
        "id": "vE1TeC9ltWkL",
        "outputId": "f75190b1-01a4-4df4-ef10-431bdf279359"
      },
      "execution_count": 54,
      "outputs": [
        {
          "output_type": "stream",
          "name": "stdout",
          "text": [
            "\n",
            " Test Accuracy:  0.8785714285714286\n",
            "\n",
            " Coonfusion matrix \n",
            "\n",
            " [[267   0   1  13]\n",
            " [  6 291   3  39]\n",
            " [  4  19  92  36]\n",
            " [  5  23   4 457]]\n"
          ]
        }
      ]
    },
    {
      "cell_type": "markdown",
      "source": [
        "## Naive bayes "
      ],
      "metadata": {
        "id": "A6UDxiM6vXaJ"
      }
    },
    {
      "cell_type": "code",
      "source": [
        "from sklearn.naive_bayes import MultinomialNB\n",
        "\n",
        "mnb= MultinomialNB()\n",
        "mnb.fit(X_train, y_train)\n",
        "\n",
        "y_predicted=mnb.predict(X_test)"
      ],
      "metadata": {
        "id": "FNei9KM-va0I"
      },
      "execution_count": 55,
      "outputs": []
    },
    {
      "cell_type": "code",
      "source": [
        "from sklearn import metrics\n",
        " \n",
        "print(\"\\n Test Accuracy: \", metrics.accuracy_score(y_test, y_predicted)) \n",
        "print(\"\\n Coonfusion matrix \\n\\n\", metrics.confusion_matrix(y_test, y_predicted))"
      ],
      "metadata": {
        "colab": {
          "base_uri": "https://localhost:8080/",
          "height": 0
        },
        "id": "s4ZJKmLpwdhn",
        "outputId": "04c738f2-b973-46c6-dabe-2ec63911e264"
      },
      "execution_count": 56,
      "outputs": [
        {
          "output_type": "stream",
          "name": "stdout",
          "text": [
            "\n",
            " Test Accuracy:  0.7753968253968254\n",
            "\n",
            " Coonfusion matrix \n",
            "\n",
            " [[254  10   0  17]\n",
            " [  5 278   0  56]\n",
            " [  7 100   1  43]\n",
            " [  7  38   0 444]]\n"
          ]
        }
      ]
    }
  ]
}